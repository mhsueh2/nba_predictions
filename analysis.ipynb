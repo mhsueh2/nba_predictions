{
 "cells": [
  {
   "cell_type": "code",
   "execution_count": 7,
   "metadata": {},
   "outputs": [],
   "source": [
    "# Load raw data\n",
    "from pandas import read_csv\n",
    "from datetime import datetime, timedelta\n",
    "from timeit import default_timer\n",
    "import pandas as pd\n",
    "\n",
    "df_team_bx = read_csv('data/team_boxscore_stats_1997-19.csv')\n",
    "df_player_bx = read_csv('data/player_boxscore_stats_1997-19_adv.csv')\n",
    "    "
   ]
  },
  {
   "cell_type": "raw",
   "metadata": {},
   "source": [
    "# Define helper functions to help extracting features \n"
   ]
  },
  {
   "cell_type": "code",
   "execution_count": 14,
   "metadata": {},
   "outputs": [],
   "source": [
    "import pandas as pd\n",
    "import os\n",
    "\n",
    "import numpy as np\n",
    "from pandas import read_csv\n",
    "from datetime import datetime, timedelta\n",
    "from timeit import default_timer\n",
    "\n",
    "\n",
    "def features():\n",
    "    features_type = {\n",
    "        'H_RD': int,  # Rest days\n",
    "        # 'H_WR': float, # Win ratio for last 10 games\n",
    "        'H_WLG': bool,  # Won last game\n",
    "        'H_EFG': float,  # Effective field goal %\n",
    "        'H_OREB': float,  # Offesnie RB %\n",
    "        'H_DREB': float,  # Defensive RB %\n",
    "        'H_AST_TO': float,  # Assit to Turn over ratio\n",
    "        # 'H_W': float,  # win percentage\n",
    "        'A_RD': int,  # Rest days\n",
    "        # 'A_WR': float, # Win ratio for last 10 games\n",
    "        'A_WLG': bool,  # Won last game\n",
    "        'A_EFG': float,  # Effective field goal %\n",
    "        'A_OREB': float,  # Offesnie RB %\n",
    "        'A_DREB': float,  # Defensive RB %\n",
    "        'A_AST_TO': float,  # Assit to Turn over ratio\n",
    "        # 'A_W': float  # win percentage\n",
    "    }\n",
    "    return features_type\n",
    "\n",
    "\n",
    "def check_court(match):\n",
    "    return AWAY if match.split()[1] == '@' else HOME\n",
    "\n",
    "\n",
    "def check_winner(game_inf):\n",
    "    court = check_court(game_inf['MATCHUP'])\n",
    "    if court == HOME:\n",
    "        winner = HOME if game_inf['WL'] == 'W' else AWAY\n",
    "    else:\n",
    "        winner = AWAY if game_inf['WL'] == 'W' else HOME\n",
    "\n",
    "    return winner\n",
    "\n",
    "\n",
    "def guess_starters(players_bx, game_inf):\n",
    "    return players_bx[(players_bx.GAME_ID == game_inf['GAME_ID'])\n",
    "                      & (players_bx.TEAM_ID == game_inf['TEAM_ID'])].head(\n",
    "        NUM_PLAYERS).sort_values(\n",
    "        by='MIN', ascending=False)  # TODO: clean this\n",
    "\n",
    "\n",
    "def assign_features(sample, game_inf, teams_meta, player_stats):\n",
    "    court_prefix = check_court(game_inf['MATCHUP']) + \"_\"\n",
    "    game_id, team_id = game_inf['GAME_ID'], game_inf['TEAM_ID']\n",
    "    game_date = datetime.strptime(game_inf['GAME_DATE'][:10], '%Y-%m-%d')\n",
    "    weights = player_stats['MIN'] / (player_stats['MIN'].sum())\n",
    "\n",
    "    sample.update({\n",
    "        court_prefix + 'RD': (game_date - teams_meta[team_id]['last_game_dt']).days,\n",
    "        court_prefix + 'WLG': teams_meta[team_id]['WLG'],\n",
    "        court_prefix + 'EFG': (weights * player_stats['EFG_PCT']).sum(),\n",
    "        court_prefix + 'OREB': (weights * player_stats['OREB_PCT']).sum(),\n",
    "        court_prefix + 'DREB': (weights * player_stats['DREB_PCT']).sum(),\n",
    "        court_prefix + 'AST_TO': (weights * player_stats['AST_TO']).sum(),\n",
    "        court_prefix + 'W_PCT': (weights * player_stats['W_PCT']).sum()\n",
    "    })"
   ]
  },
  {
   "cell_type": "code",
   "execution_count": 14,
   "metadata": {},
   "outputs": [
    {
     "name": "stdout",
     "output_type": "stream",
     "text": [
      "Processing Season1997...\n",
      "Cleaning incomplete samples...\n",
      "99  Samples Generated in  0:00:01.964518\n"
     ]
    }
   ],
   "source": [
    "\"\"\"\n",
    "DEFINITIONS\n",
    "\"\"\"\n",
    "HOME = 'H'\n",
    "AWAY = 'A'\n",
    "\n",
    "\n",
    "\"\"\"\n",
    "SETTINGS \n",
    "\"\"\"\n",
    "NUM_PLAYERS = 10  # Number of players used to generate features\n",
    "REQ_PLAYER_STATS = [\n",
    "    \"PLAYER_ID\",\n",
    "    \"PLAYER_NAME\",\n",
    "    \"OREB_PCT\",\n",
    "    \"DREB_PCT\",\n",
    "    \"EFG_PCT\",\n",
    "    \"AST_TO\",\n",
    "    \"W_PCT\",\n",
    "    \"MIN\"\n",
    "]\n",
    "\n",
    "\n",
    "\"\"\"\n",
    "SCRIPT\n",
    "\"\"\"\n",
    "abs_path = os.getcwd()\n",
    "df_team_bx = read_csv(abs_path + '/data/team_boxscore_stats_1997-19.csv')\n",
    "df_player_bx = read_csv(abs_path + '/data/player_boxscore_stats_1997-19_adv.csv')\n",
    "\n",
    "\n",
    "start_time = default_timer()\n",
    "x_train = list()\n",
    "y_train = list()\n",
    "season_id = None\n",
    "incomplete_sample = dict()  # {'%ID\": %i}\n",
    "\n",
    "for i, game_inf in df_team_bx.iterrows():\n",
    "\n",
    "    # Fetch last seasons player stats\n",
    "    if season_id != game_inf['SEASON_ID']:  #TODO: Season 1999 splits regular/playoff\n",
    "        season_id = game_inf['SEASON_ID']\n",
    "        teams_meta = dict()\n",
    "        yr = game_inf['GAME_DATE'][:4]\n",
    "        file_path ='data/player_yearly_stats/player_stats_' + str(int(yr) - 1)[-2:] + '-' + yr[-2:] + '.csv'\n",
    "        df_player_stats_hist = read_csv(file_path)\n",
    "        print('Processing Season' + yr + '...')\n",
    "\n",
    "    game_id, team_id = game_inf['GAME_ID'], game_inf['TEAM_ID']\n",
    "    if not teams_meta.get(team_id):\n",
    "        teams_meta[team_id] = {\n",
    "            'last_game_dt': datetime.strptime(game_inf['GAME_DATE'][:10], '%Y-%m-%d'),\n",
    "            'WLG': True if game_inf['WL'] == 'W' else False\n",
    "        }\n",
    "        continue\n",
    "\n",
    "    # TODO: implement winning streaks\n",
    "    # if len(teams_meta.get(team_id, {}).get(last_5_games, [])) < 5:\n",
    "    #     team_meta[team_id]['last_5_games'] = team_meta[team_id].get('last_5_games',[]) + []\n",
    "    #     continue\n",
    "\n",
    "    if game_id in incomplete_sample:\n",
    "        sample = x_train[incomplete_sample[game_id]]\n",
    "        incomplete_sample.pop(game_id)\n",
    "    else:\n",
    "        sample = features()\n",
    "        x_train.append(sample)\n",
    "        y_train.append(check_winner(game_inf))\n",
    "        incomplete_sample[game_id] = len(x_train) - 1\n",
    "\n",
    "    starters = guess_starters(df_player_bx, game_inf)\n",
    "    starters_stats = df_player_stats_hist.merge(starters, on='PLAYER_ID', how='right', suffixes=('', '_BX'))\n",
    "\n",
    "    # TODO: Assign residual stats, deal with non-existent stats\n",
    "    # if not avg_stats:\n",
    "    #     # do not overwrite\n",
    "    #     player_stats = df_player_stats_cur[df_player_stats_cur.PLAYER_ID == player['PLAYER_ID']]\n",
    "\n",
    "    assign_features(sample, game_inf, teams_meta, starters_stats)\n",
    "    teams_meta[team_id] = {\n",
    "        'last_game_dt': datetime.strptime(game_inf['GAME_DATE'][:10], '%Y-%m-%d'),\n",
    "        'WLG': True if game_inf['WL'] == 'W' else False\n",
    "    }\n",
    "\n",
    "print('Cleaning incomplete samples...')\n",
    "\n",
    "# Clean throw away data\n",
    "for i in sorted(list(incomplete_sample.values()), reverse=True):\n",
    "    x_train.pop(i)\n",
    "    y_train.pop(i)\n",
    "\n",
    "end_time = default_timer()\n",
    "print(len(x_train), 'Samples Generated in', timedelta(seconds=end_time - start_time))\n",
    "\n",
    "add_info = str(NUM_PLAYERS) + 'P'\n",
    "add_info += '_' if add_info else ''\n",
    "time_lbl = datetime.now().strftime('%m-%d-%H%M%S')\n",
    "\n",
    "feat_file = abs_path + '/feature_data/x_train_' + add_info + time_lbl\n",
    "lbl_file = abs_path + '/feature_data/y_train_' + add_info + time_lbl\n",
    "\n",
    "np.save(feat_file, pd.DataFrame(x_train).values)\n",
    "np.save(lbl_file, y_train)\n",
    "\n",
    "print('Training data generated in feature_data folder')"
   ]
  },
  {
   "cell_type": "code",
   "execution_count": 2,
   "metadata": {},
   "outputs": [],
   "source": [
    "import os\n",
    "import glob\n",
    "from time import time\n",
    "\n",
    "import numpy as np\n",
    "import pandas as pd\n",
    "from sklearn.metrics import f1_score\n",
    "from sklearn.model_selection import train_test_split\n",
    "from sklearn.linear_model import LogisticRegression\n",
    "from sklearn.discriminant_analysis import LinearDiscriminantAnalysis\n",
    "from sklearn.ensemble import RandomForestClassifier\n",
    "from sklearn.neighbors import KNeighborsClassifier\n",
    "from sklearn.svm import SVC\n",
    "from xgboost import XGBClassifier\n",
    "\n",
    "\n",
    "def train_classifier(clf, x_train, y_train):\n",
    "    ''' Fits a classifier to the training data. '''\n",
    "\n",
    "    # Start the clock, train the classifier, then stop the clock\n",
    "    start = time()\n",
    "    clf.fit(x_train, y_train)\n",
    "    end = time()\n",
    "\n",
    "    # Print the results\n",
    "    print(f\"Trained model in {round(end - start, 3)} seconds\")\n",
    "\n",
    "\n",
    "def predict_labels(clf, features, target):\n",
    "    ''' Makes predictions using a fit classifier based on F1 score. '''\n",
    "\n",
    "    y_pred = clf.predict(features)\n",
    "    return f1_score(target, y_pred, pos_label='H'), sum(target == y_pred) / float(len(y_pred))\n",
    "\n",
    "\n",
    "def train_predict(clf, x_train, y_train, x_test, y_test):\n",
    "    ''' Train and predict using a classifer based on F1 score. '''\n",
    "\n",
    "    # Indicate the classifier and the training set size\n",
    "    print(f\"Training a {clf.__class__.__name__} using a training set size of {len(x_train)}. . .\")\n",
    "\n",
    "    # Train the classifier\n",
    "    train_classifier(clf, x_train, y_train)\n",
    "\n",
    "    # Print the results of prediction for both training and testing\n",
    "    f1, acc = predict_labels(clf, x_train, y_train)\n",
    "    print(f1, acc)\n",
    "    print(f\"F1 score and accuracy score for training set: {f1} , {np.mean(acc)}.\")\n",
    "\n",
    "    f1, acc = predict_labels(clf, x_test, y_test)\n",
    "    print(f\"F1 score and accuracy score for test set: {f1} , {np.mean(acc)}.\")"
   ]
  },
  {
   "cell_type": "code",
   "execution_count": 2,
   "metadata": {},
   "outputs": [
    {
     "name": "stdout",
     "output_type": "stream",
     "text": [
      "Training a LogisticRegression using a training set size of 20555. . .\n",
      "Trained model in 3.01 seconds\n",
      "0.7394535519125682 0.6520554609584043\n",
      "F1 score and accuracy score for training set: 0.7394535519125682 , 0.6520554609584043.\n",
      "F1 score and accuracy score for test set: 0.7355685131195334 , 0.6470130375559447.\n",
      "\n",
      "Training a SVC using a training set size of 20555. . .\n",
      "Trained model in 17.416 seconds\n",
      "0.7515574214517877 0.6430065677450741\n",
      "F1 score and accuracy score for training set: 0.7515574214517877 , 0.6430065677450741.\n",
      "F1 score and accuracy score for test set: 0.746673834162075 , 0.6331971200622689.\n",
      "\n",
      "Training a KNeighborsClassifier using a training set size of 20555. . .\n",
      "Trained model in 0.289 seconds\n",
      "0.740139211136891 0.6948674288494283\n",
      "F1 score and accuracy score for training set: 0.740139211136891 , 0.6948674288494283.\n",
      "F1 score and accuracy score for test set: 0.6423333333333333 , 0.5824090289939677.\n",
      "\n",
      "Training a LinearDiscriminantAnalysis using a training set size of 20555. . .\n",
      "Trained model in 0.086 seconds\n",
      "0.7362593040736258 0.6500608124543906\n",
      "F1 score and accuracy score for training set: 0.7362593040736258 , 0.6500608124543906.\n",
      "F1 score and accuracy score for test set: 0.7363023732786405 , 0.649737302977233.\n",
      "\n",
      "Training a RandomForestClassifier using a training set size of 20555. . .\n",
      "Trained model in 1.008 seconds\n",
      "0.7544375 0.61770858671856\n",
      "F1 score and accuracy score for training set: 0.7544375 , 0.61770858671856.\n",
      "F1 score and accuracy score for test set: 0.7506849315068493 , 0.6104300447557891.\n",
      "\n",
      "Training a XGBClassifier using a training set size of 20555. . .\n",
      "Trained model in 1.422 seconds\n",
      "0.7529134090573831 0.6740452444660666\n",
      "F1 score and accuracy score for training set: 0.7529134090573831 , 0.6740452444660666.\n",
      "F1 score and accuracy score for test set: 0.7387520283227615 , 0.6553804242070441.\n"
     ]
    }
   ],
   "source": [
    "LATEST_DATA = False\n",
    "source_file = ''\n",
    "\n",
    "data_folder = '/feature_data/'\n",
    "folder_path = os.getcwd() + data_folder\n",
    "if not LATEST_DATA:\n",
    "    feature_file = max(glob.iglob(folder_path + '*x_train*'), key=os.path.getctime)\n",
    "    lbl_file = max(glob.iglob(folder_path + '*y_train*'), key=os.path.getctime)\n",
    "elif not source_file:\n",
    "    raise Exception(\"Source file name must be specified, assign to 'source_file' var\")\n",
    "\n",
    "features = np.load(feature_file)\n",
    "labels = np.load(lbl_file)\n",
    "\n",
    "x_train, x_test, y_train, y_test = \\\n",
    "    train_test_split(features,\n",
    "                     labels,\n",
    "                     test_size=0.2,\n",
    "                     random_state=2,\n",
    "                     stratify=labels)\n",
    "\n",
    "clf_A = LogisticRegression(random_state=42, solver='saga', max_iter=999999)\n",
    "train_predict(clf_A, x_train, y_train, x_test, y_test)\n",
    "print('')\n",
    "\n",
    "clf_B = SVC(random_state=912, kernel='rbf', gamma='auto')\n",
    "train_predict(clf_B, x_train, y_train, x_test, y_test)\n",
    "print('')\n",
    "\n",
    "clf_C = KNeighborsClassifier(n_neighbors=8)\n",
    "train_predict(clf_C, x_train, y_train, x_test, y_test)\n",
    "print('')\n",
    "\n",
    "clf_D = LinearDiscriminantAnalysis()\n",
    "train_predict(clf_D, x_train, y_train, x_test, y_test)\n",
    "print('')\n",
    "\n",
    "clf_E = RandomForestClassifier(n_estimators=100, max_depth=2, random_state=0)\n",
    "train_predict(clf_E, x_train, y_train, x_test, y_test)\n",
    "print('')\n",
    "\n",
    "clf_F = XGBClassifier()\n",
    "train_predict(clf_F, x_train, y_train, x_test, y_test)"
   ]
  },
  {
   "cell_type": "code",
   "execution_count": 31,
   "metadata": {},
   "outputs": [
    {
     "name": "stdout",
     "output_type": "stream",
     "text": [
      "[0.08151383 0.10189229 0.11353712 0.05676856 0.02328967 0.02037846\n",
      " 0.12663755 0.08151383 0.09752547 0.08733624 0.04803494 0.02037846\n",
      " 0.02037846 0.12081514]\n"
     ]
    },
    {
     "data": {
      "image/png": "[encoded data removed]",
      "text/plain": [
       "<Figure size 432x288 with 1 Axes>"
      ]
     },
     "metadata": {
      "needs_background": "light"
     },
     "output_type": "display_data"
    }
   ],
   "source": [
    "import copy\n",
    "labels = ['A_AST_TO', 'A_DREB', 'A_EFG', 'A_OREB', 'A_RD', 'A_WLG', 'A_W_PCT',\n",
    "       'H_AST_TO', 'H_DREB', 'H_EFG', 'H_OREB', 'H_RD', 'H_WLG', 'H_W_PCT']\n",
    "\n",
    "feature_imp = copy.deepcopy(model.feature_importances_)\n",
    "print(feature_imp)\n",
    "pyplot.barh(range(len(model.feature_importances_)), model.feature_importances_, tick_label=labels )\n",
    "pyplot.show()\n",
    "\n"
   ]
  },
  {
   "cell_type": "code",
   "execution_count": 4,
   "metadata": {},
   "outputs": [
    {
     "data": {
      "text/plain": [
       "0.6553804242070441"
      ]
     },
     "execution_count": 4,
     "metadata": {},
     "output_type": "execute_result"
    }
   ],
   "source": [
    "# plot feature importance manually\n",
    "from numpy import loadtxt\n",
    "from xgboost import XGBClassifier\n",
    "from matplotlib import pyplot\n",
    "import numpy as np\n",
    "from sklearn.feature_selection import SelectFromModel\n",
    "\n",
    "labels = ['A_AST_TO', 'A_DREB', 'A_EFG', 'A_OREB', 'A_RD', 'A_WLG', 'A_W_PCT',\n",
    "       'H_AST_TO', 'H_DREB', 'H_EFG', 'H_OREB', 'H_RD', 'H_WLG', 'H_W_PCT']\n",
    "x_train = np.load('feature_data/x_train_10P_04-15-232419.npy')\n",
    "y_train = np.load('feature_data/y_train_10P_04-15-232419.npy')\n",
    "\n",
    "X_train, X_test, Y_train, y_test = train_test_split(pd.DataFrame(x_train).values, np.array(y_train), \n",
    "                                                    test_size = 0.2,\n",
    "                                                    random_state = 2,\n",
    "                                                    stratify = np.array(y_train))\n",
    "\n",
    "# fit model no training data\n",
    "model = XGBClassifier()\n",
    "model.fit(X_train, Y_train)\n",
    "\n",
    "y_pred = model.predict(X_test)\n",
    "sum(y_test == y_pred) / float(len(y_pred))"
   ]
  },
  {
   "cell_type": "code",
   "execution_count": 47,
   "metadata": {},
   "outputs": [
    {
     "data": {
      "text/plain": [
       "0.6520723876240514"
      ]
     },
     "execution_count": 47,
     "metadata": {},
     "output_type": "execute_result"
    }
   ],
   "source": [
    "thresh = 0.05\n",
    "\n",
    "selection = SelectFromModel(model, threshold=thresh, prefit=True)\n",
    "select_X_train = selection.transform(X_train)\n",
    "# train model\n",
    "selection_model = XGBClassifier()\n",
    "selection_model.fit(select_X_train, Y_train)\n",
    "# eval model\n",
    "select_X_test = selection.transform(X_test)\n",
    "y_pred = selection_model.predict(select_X_test)\n",
    "sum(y_test == y_pred) / float(len(y_pred))"
   ]
  },
  {
   "cell_type": "code",
   "execution_count": 5,
   "metadata": {},
   "outputs": [
    {
     "data": {
      "text/plain": [
       "array(['cunt'], dtype='<U4')"
      ]
     },
     "execution_count": 5,
     "metadata": {},
     "output_type": "execute_result"
    }
   ],
   "source": [
    "np.array(['cunt'])"
   ]
  },
  {
   "cell_type": "code",
   "execution_count": 15,
   "metadata": {},
   "outputs": [
    {
     "data": {
      "text/plain": [
       "Index(['A_AST_TO', 'A_DREB', 'A_EFG', 'A_OREB', 'A_RD', 'A_WLG', 'A_W_PCT',\n",
       "       'H_AST_TO', 'H_DREB', 'H_EFG', 'H_OREB', 'H_RD', 'H_WLG', 'H_W_PCT'],\n",
       "      dtype='object')"
      ]
     },
     "execution_count": 15,
     "metadata": {},
     "output_type": "execute_result"
    }
   ],
   "source": [
    "pd.DataFrame(x_train).columns"
   ]
  },
  {
   "cell_type": "code",
   "execution_count": null,
   "metadata": {},
   "outputs": [],
   "source": []
  }
 ],
 "metadata": {
  "kernelspec": {
   "display_name": "Python 3",
   "language": "python",
   "name": "python3"
  },
  "language_info": {
   "codemirror_mode": {
    "name": "ipython",
    "version": 3
   },
   "file_extension": ".py",
   "mimetype": "text/x-python",
   "name": "python",
   "nbconvert_exporter": "python",
   "pygments_lexer": "ipython3",
   "version": "3.7.1"
  }
 },
 "nbformat": 4,
 "nbformat_minor": 2
}
